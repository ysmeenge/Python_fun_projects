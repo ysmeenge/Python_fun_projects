{
 "cells": [
  {
   "cell_type": "markdown",
   "id": "bed7fe51",
   "metadata": {},
   "source": [
    "## Compare code computation time \n",
    "\n",
    "This program allows you to compare the computation time of two different codes (doing the same thing) to see which one is faster.  \n",
    "\n",
    "\n",
    "How it works:\n",
    "- add in the needed imports in the ## imports cell\n",
    "- paste the first code in the run_code_1 function\n",
    "- paste the second code in the run_code_2 function\n",
    "- change the number of runs N if you want\n",
    "- run all cells to compare the computation time"
   ]
  },
  {
   "cell_type": "code",
   "execution_count": 1,
   "id": "0f8e36f9",
   "metadata": {},
   "outputs": [],
   "source": [
    "## imports\n",
    "\n",
    "import numpy as np\n",
    "import time"
   ]
  },
  {
   "cell_type": "code",
   "execution_count": 6,
   "id": "354a46d0",
   "metadata": {},
   "outputs": [],
   "source": [
    "### CODE 1\n",
    "\n",
    "def run_code_1():\n",
    "    \n",
    "    # PASTE CODE 1 HERE\n",
    "\n",
    "\n",
    "    \n",
    "    \n",
    "    "
   ]
  },
  {
   "cell_type": "code",
   "execution_count": 7,
   "id": "3c001263",
   "metadata": {},
   "outputs": [],
   "source": [
    "### CODE 2\n",
    "\n",
    "def run_code_2():\n",
    "    \n",
    "    # PASTE CODE 2 HERE\n",
    "    \n",
    "\n",
    "    \n",
    "\n",
    "    \n",
    "    "
   ]
  },
  {
   "cell_type": "code",
   "execution_count": 8,
   "id": "4f1d4bd9",
   "metadata": {},
   "outputs": [
    {
     "name": "stdout",
     "output_type": "stream",
     "text": [
      "The computation time of code 1 is: 9.473557233810425 seconds.\n",
      "The computation time of code 2 is: 0.03125357627868652 seconds.\n"
     ]
    }
   ],
   "source": [
    "### COMPARE\n",
    "\n",
    "N = 100 # number of runs\n",
    "\n",
    "\n",
    "start = time.time()\n",
    "for i in range(0, N):\n",
    "    run_code_1()\n",
    "end = time.time()\n",
    "computation_time_1 = end - start\n",
    "\n",
    "\n",
    "\n",
    "start = time.time()\n",
    "for i in range(0, N):\n",
    "    run_code_2()\n",
    "end = time.time()\n",
    "computation_time_2 = end - start\n",
    "\n",
    "\n",
    "print(f\"The computation time of code 1 is: {computation_time_1} seconds.\")\n",
    "print(f\"The computation time of code 2 is: {computation_time_2} seconds.\")"
   ]
  },
  {
   "cell_type": "code",
   "execution_count": null,
   "id": "825540a8",
   "metadata": {},
   "outputs": [],
   "source": []
  }
 ],
 "metadata": {
  "kernelspec": {
   "display_name": "Python 3 (ipykernel)",
   "language": "python",
   "name": "python3"
  },
  "language_info": {
   "codemirror_mode": {
    "name": "ipython",
    "version": 3
   },
   "file_extension": ".py",
   "mimetype": "text/x-python",
   "name": "python",
   "nbconvert_exporter": "python",
   "pygments_lexer": "ipython3",
   "version": "3.11.5"
  }
 },
 "nbformat": 4,
 "nbformat_minor": 5
}
